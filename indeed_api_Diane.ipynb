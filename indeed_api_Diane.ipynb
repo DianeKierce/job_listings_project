{
 "cells": [
  {
   "cell_type": "markdown",
   "metadata": {},
   "source": [
    "## Project 4: Job Listing Data Acquisition\n",
    "\n",
    "#### In this notebook, I acquire the job listing data from Indeed.com that I used to perform the analysis for Project 4. I obtained the data using Indeed's API.\n",
    "\n",
    "#### See the notebook entitled indeed_job_listings_project_Diane for the analysis of this data set."
   ]
  },
  {
   "cell_type": "code",
   "execution_count": 400,
   "metadata": {
    "collapsed": true
   },
   "outputs": [],
   "source": [
    "import pandas as pd\n",
    "import numpy as np\n",
    "import requests\n",
    "import time\n",
    "from indeed import IndeedClient\n",
    "import pprint\n",
    "\n",
    "pd.options.display.max_rows = 999\n",
    "pd.options.display.max_columns = 999"
   ]
  },
  {
   "cell_type": "markdown",
   "metadata": {},
   "source": [
    "### API Paramaters\n",
    "\n",
    "Sources: https://ads.indeed.com/jobroll/xmlfeed, https://github.com/indeedlabs/indeed-python\n",
    "\n",
    "#### Job Search\n",
    "\n",
    "q - Query. By default terms are ANDed. To see what is possible, use our advanced search page to perform a search and then check the url for the q value.\n",
    "\n",
    "l - Location. Use a postal code or a \"city, state/province/region\" combination.\n",
    "\n",
    "userip - The IP number of the end-user to whom the job results will be displayed. This field is required.\n",
    "\n",
    "useragent - The User-Agent (browser) of the end-user to whom the job results will be displayed. This can be obtained from the \"User-Agent\" HTTP request header from the end-user. This field is required.\n",
    "\n",
    "format - Format. Which output format of the API you wish to use. The options are \"xml\" and \"json.\". Default is \"json\". The IndeedClient requests and parses a json repsonse by default. If you with to use the xml format, requests will be performed with the raw parameter set to True, see raw.\n",
    "\n",
    "raw - A boolean. Receive the raw json/xml response from the Indeed API. Use in addition with format to specify which response format you would like. Default is False\n",
    "\n",
    "sort - Sort by relevance or date. Default is relevance.\n",
    "\n",
    "radius - Distance from search location (\"as the crow flies\"). Default is 25.\n",
    "\n",
    "start - Start results at this result number, beginning with 0. Default is 0.\n",
    "\n",
    "limit - Maximum number of results returned per query. Default is 10, Maximum is 25\n",
    "\n",
    "fromage - Number of days back to search.\n",
    "\n",
    "highlight - Setting this value to 1 will bold terms in the snippet that are also present in q. Default is 0.\n",
    "\n",
    "filter - Filter duplicate results. 0 turns off duplicate job filtering. Default is 1.\n",
    "\n",
    "latlong - If latlong=1, returns latitude and longitude information for each job result. Default is 0.\n",
    "\n",
    "co - Search within country specified. Default is us.\n",
    "\n",
    "#### Job Details\n",
    "\n",
    "jobkeys - Job keys. A list of job keys specifying the jobs to look up. This parameter is required.\n",
    "\n",
    "format - Format. Which output format of the API you wish to use. The options are \"xml\" and \"json.\". Default is \"json\". The IndeedClient requests and parses a json repsonse by default. If you with to use the xml format, requests will be performed with the raw parameter set to True, see raw.\n",
    "\n",
    "raw - A boolean. Receive the raw json/xml response from the Indeed API. Use in addition with format to specify which response format you would like. Default is False"
   ]
  },
  {
   "cell_type": "code",
   "execution_count": 2,
   "metadata": {
    "collapsed": false
   },
   "outputs": [],
   "source": [
    "publisher_id = 'redacted'\n",
    "\n",
    "client = IndeedClient(publisher = publisher_id)"
   ]
  },
  {
   "cell_type": "code",
   "execution_count": 64,
   "metadata": {
    "collapsed": false
   },
   "outputs": [
    {
     "data": {
      "text/plain": [
       "{u'dupefilter': True,\n",
       " u'end': 25,\n",
       " u'highlight': True,\n",
       " u'location': u'Seattle, WA',\n",
       " u'pageNumber': 0,\n",
       " u'paginationPayload': u'',\n",
       " u'query': u'data or scientist or analyst or engineer or business or intelligence',\n",
       " u'radius': 25,\n",
       " u'results': [{u'city': u'Seattle',\n",
       "   u'company': u'Parsons Corporation',\n",
       "   u'country': u'US',\n",
       "   u'date': u'Wed, 31 May 2017 16:29:39 GMT',\n",
       "   u'expired': False,\n",
       "   u'formattedLocation': u'Seattle, WA',\n",
       "   u'formattedLocationFull': u'Seattle, WA 98101',\n",
       "   u'formattedRelativeTime': u'2 hours ago',\n",
       "   u'indeedApply': False,\n",
       "   u'jobkey': u'4144fdc8da99c5f6',\n",
       "   u'jobtitle': u'Project Engineer -Civil Road Highway',\n",
       "   u'language': u'en',\n",
       "   u'onmousedown': u\"indeed_clk(this,'2746');\",\n",
       "   u'snippet': u'Civil Project Road &amp; Highway <b>Engineer</b>. Civil Project <b>Engineer</b> \\u2013 Road &amp; Highway \\u2013 Seattle, Washington. Parsons is now hiring a Civil Project <b>Engineer</b> for our...',\n",
       "   u'source': u'Parsons Corporation',\n",
       "   u'sponsored': False,\n",
       "   u'state': u'WA',\n",
       "   u'stations': u'',\n",
       "   u'url': u'http://www.indeed.com/viewjob?jk=4144fdc8da99c5f6&qd=Aoz6PZOz-XXMCdl1ju_jLous5YRLWalort9_iVz3HvgnI33CvOgevmPVr9OOH7FZRrmFno9B7_wNWWzP_XHfw6G3NC2DwzAlJXGgSeROYraZLhctA_656uNncSON-5PvyI0LoXuNiCUzx1FsLQxuZcu0NvuqygZrHG8dujxIpqj1xfv2JWee_rU_zB41Og_UDbgyPOhdY6xQ3KLuOremBg&indpubnum=7693159125596228&atk=1bhfv1gdc19tv58g'},\n",
       "  {u'city': u'Redmond',\n",
       "   u'company': u'E- Solutionsinc',\n",
       "   u'country': u'US',\n",
       "   u'date': u'Wed, 31 May 2017 15:48:09 GMT',\n",
       "   u'expired': False,\n",
       "   u'formattedLocation': u'Redmond, WA',\n",
       "   u'formattedLocationFull': u'Redmond, WA',\n",
       "   u'formattedRelativeTime': u'3 hours ago',\n",
       "   u'indeedApply': True,\n",
       "   u'jobkey': u'fc7ab33591f2435b',\n",
       "   u'jobtitle': u'System Test Engineer',\n",
       "   u'language': u'en',\n",
       "   u'onmousedown': u\"indeed_clk(this,'2746');\",\n",
       "   u'snippet': u'System Testing <b>Engineer</b>*. Looking for Lab and Test <b>Engineers</b> who are familiar with using software to test hardware. Redmond, WA { ONLY Local Consultants }*....',\n",
       "   u'source': u'Indeed',\n",
       "   u'sponsored': False,\n",
       "   u'state': u'WA',\n",
       "   u'stations': u'',\n",
       "   u'url': u'http://www.indeed.com/viewjob?jk=fc7ab33591f2435b&qd=Aoz6PZOz-XXMCdl1ju_jLous5YRLWalort9_iVz3HvgnI33CvOgevmPVr9OOH7FZRrmFno9B7_wNWWzP_XHfw6G3NC2DwzAlJXGgSeROYraZLhctA_656uNncSON-5PvyI0LoXuNiCUzx1FsLQxuZcu0NvuqygZrHG8dujxIpqj1xfv2JWee_rU_zB41Og_UDbgyPOhdY6xQ3KLuOremBg&indpubnum=7693159125596228&atk=1bhfv1gdc19tv58g'},\n",
       "  {u'city': u'Redmond',\n",
       "   u'company': u'E- Solutionsinc',\n",
       "   u'country': u'US',\n",
       "   u'date': u'Wed, 31 May 2017 15:42:35 GMT',\n",
       "   u'expired': False,\n",
       "   u'formattedLocation': u'Redmond, WA',\n",
       "   u'formattedLocationFull': u'Redmond, WA',\n",
       "   u'formattedRelativeTime': u'3 hours ago',\n",
       "   u'indeedApply': True,\n",
       "   u'jobkey': u'b019bdc1676fbbfa',\n",
       "   u'jobtitle': u'System Testing Engineer',\n",
       "   u'language': u'en',\n",
       "   u'onmousedown': u\"indeed_clk(this,'2746');\",\n",
       "   u'snippet': u'System Testing <b>Engineer</b>*. Looking for Lab and Test <b>Engineers</b> who are familiar with using software to test hardware. Redmond, WA { ONLY Local Consultants }*....',\n",
       "   u'source': u'Indeed',\n",
       "   u'sponsored': False,\n",
       "   u'state': u'WA',\n",
       "   u'stations': u'',\n",
       "   u'url': u'http://www.indeed.com/viewjob?jk=b019bdc1676fbbfa&qd=Aoz6PZOz-XXMCdl1ju_jLous5YRLWalort9_iVz3HvgnI33CvOgevmPVr9OOH7FZRrmFno9B7_wNWWzP_XHfw6G3NC2DwzAlJXGgSeROYraZLhctA_656uNncSON-5PvyI0LoXuNiCUzx1FsLQxuZcu0NvuqygZrHG8dujxIpqj1xfv2JWee_rU_zB41Og_UDbgyPOhdY6xQ3KLuOremBg&indpubnum=7693159125596228&atk=1bhfv1gdc19tv58g'},\n",
       "  {u'city': u'Redmond',\n",
       "   u'company': u'HMG America LLC',\n",
       "   u'country': u'US',\n",
       "   u'date': u'Wed, 31 May 2017 15:14:20 GMT',\n",
       "   u'expired': False,\n",
       "   u'formattedLocation': u'Redmond, WA',\n",
       "   u'formattedLocationFull': u'Redmond, WA',\n",
       "   u'formattedRelativeTime': u'4 hours ago',\n",
       "   u'indeedApply': True,\n",
       "   u'jobkey': u'b76a9dca78417439',\n",
       "   u'jobtitle': u'SCOM Engineer (Local candidates preferred)',\n",
       "   u'language': u'en',\n",
       "   u'onmousedown': u\"indeed_clk(this,'2746');\",\n",
       "   u'snippet': u'The SCOM <b>Engineer</b> will be responsible for collaborating with service <b>engineers</b>, vendor support, and customers to determine requirements for filters, events,...',\n",
       "   u'source': u'Indeed',\n",
       "   u'sponsored': False,\n",
       "   u'state': u'WA',\n",
       "   u'stations': u'',\n",
       "   u'url': u'http://www.indeed.com/viewjob?jk=b76a9dca78417439&qd=Aoz6PZOz-XXMCdl1ju_jLous5YRLWalort9_iVz3HvgnI33CvOgevmPVr9OOH7FZRrmFno9B7_wNWWzP_XHfw6G3NC2DwzAlJXGgSeROYraZLhctA_656uNncSON-5PvyI0LoXuNiCUzx1FsLQxuZcu0NvuqygZrHG8dujxIpqj1xfv2JWee_rU_zB41Og_UDbgyPOhdY6xQ3KLuOremBg&indpubnum=7693159125596228&atk=1bhfv1gdc19tv58g'},\n",
       "  {u'city': u'Redmond',\n",
       "   u'company': u'AvalonBay Communities',\n",
       "   u'country': u'US',\n",
       "   u'date': u'Wed, 31 May 2017 13:31:26 GMT',\n",
       "   u'expired': False,\n",
       "   u'formattedLocation': u'Redmond, WA',\n",
       "   u'formattedLocationFull': u'Redmond, WA',\n",
       "   u'formattedRelativeTime': u'5 hours ago',\n",
       "   u'indeedApply': False,\n",
       "   u'jobkey': u'd41a2a26149362f9',\n",
       "   u'jobtitle': u'Project Engineer',\n",
       "   u'language': u'en',\n",
       "   u'onmousedown': u\"indeed_clk(this,'2746');\",\n",
       "   u'snippet': u'AvalonBay Communities, Inc., a national development/construction and property management company, is looking for the right candidate to be a Project <b>Engineer</b>...',\n",
       "   u'source': u'AvalonBay Communities',\n",
       "   u'sponsored': False,\n",
       "   u'state': u'WA',\n",
       "   u'stations': u'',\n",
       "   u'url': u'http://www.indeed.com/viewjob?jk=d41a2a26149362f9&qd=Aoz6PZOz-XXMCdl1ju_jLous5YRLWalort9_iVz3HvgnI33CvOgevmPVr9OOH7FZRrmFno9B7_wNWWzP_XHfw6G3NC2DwzAlJXGgSeROYraZLhctA_656uNncSON-5PvyI0LoXuNiCUzx1FsLQxuZcu0NvuqygZrHG8dujxIpqj1xfv2JWee_rU_zB41Og_UDbgyPOhdY6xQ3KLuOremBg&indpubnum=7693159125596228&atk=1bhfv1gdc19tv58g'},\n",
       "  {u'city': u'Redmond',\n",
       "   u'company': u'SMK Soft',\n",
       "   u'country': u'US',\n",
       "   u'date': u'Wed, 31 May 2017 13:23:24 GMT',\n",
       "   u'expired': False,\n",
       "   u'formattedLocation': u'Redmond, WA',\n",
       "   u'formattedLocationFull': u'Redmond, WA',\n",
       "   u'formattedRelativeTime': u'5 hours ago',\n",
       "   u'indeedApply': True,\n",
       "   u'jobkey': u'c59ee11bb832b949',\n",
       "   u'jobtitle': u'SCOM Engineer',\n",
       "   u'language': u'en',\n",
       "   u'onmousedown': u\"indeed_clk(this,'2746');\",\n",
       "   u'snippet': u'The SCOM <b>Engineer</b> will be responsible for collaborating with service <b>engineers</b>, vendor support, and customers to determine requirements for filters, events,...',\n",
       "   u'source': u'Indeed',\n",
       "   u'sponsored': False,\n",
       "   u'state': u'WA',\n",
       "   u'stations': u'',\n",
       "   u'url': u'http://www.indeed.com/viewjob?jk=c59ee11bb832b949&qd=Aoz6PZOz-XXMCdl1ju_jLous5YRLWalort9_iVz3HvgnI33CvOgevmPVr9OOH7FZRrmFno9B7_wNWWzP_XHfw6G3NC2DwzAlJXGgSeROYraZLhctA_656uNncSON-5PvyI0LoXuNiCUzx1FsLQxuZcu0NvuqygZrHG8dujxIpqj1xfv2JWee_rU_zB41Og_UDbgyPOhdY6xQ3KLuOremBg&indpubnum=7693159125596228&atk=1bhfv1gdc19tv58g'},\n",
       "  {u'city': u'Seattle',\n",
       "   u'company': u'Community Health Plan Of Washington',\n",
       "   u'country': u'US',\n",
       "   u'date': u'Wed, 31 May 2017 17:32:46 GMT',\n",
       "   u'expired': False,\n",
       "   u'formattedLocation': u'Seattle, WA',\n",
       "   u'formattedLocationFull': u'Seattle, WA 98101',\n",
       "   u'formattedRelativeTime': u'1 hour ago',\n",
       "   u'indeedApply': False,\n",
       "   u'jobkey': u'7059408abec89cca',\n",
       "   u'jobtitle': u'Program Mgr, Quality Performance',\n",
       "   u'language': u'en',\n",
       "   u'onmousedown': u\"indeed_clk(this,'2746');\",\n",
       "   u'snippet': u'\\x95 Ability to present complex <b>data</b> and compile meaningful reports. Creates project management plans, writes necessary reports, ensures compliance on deliverables...',\n",
       "   u'source': u'Community Health Plan of Washington',\n",
       "   u'sponsored': False,\n",
       "   u'state': u'WA',\n",
       "   u'stations': u'',\n",
       "   u'url': u'http://www.indeed.com/viewjob?jk=7059408abec89cca&qd=Aoz6PZOz-XXMCdl1ju_jLous5YRLWalort9_iVz3HvgnI33CvOgevmPVr9OOH7FZRrmFno9B7_wNWWzP_XHfw6G3NC2DwzAlJXGgSeROYraZLhctA_656uNncSON-5PvyI0LoXuNiCUzx1FsLQxuZcu0NvuqygZrHG8dujxIpqj1xfv2JWee_rU_zB41Og_UDbgyPOhdY6xQ3KLuOremBg&indpubnum=7693159125596228&atk=1bhfv1gdc19tv58g'},\n",
       "  {u'city': u'Seattle',\n",
       "   u'company': u'Chef',\n",
       "   u'country': u'US',\n",
       "   u'date': u'Wed, 31 May 2017 17:34:05 GMT',\n",
       "   u'expired': False,\n",
       "   u'formattedLocation': u'Seattle, WA',\n",
       "   u'formattedLocationFull': u'Seattle, WA',\n",
       "   u'formattedRelativeTime': u'1 hour ago',\n",
       "   u'indeedApply': False,\n",
       "   u'jobkey': u'a8485c51bc0da8d2',\n",
       "   u'jobtitle': u'Director of Business Development',\n",
       "   u'language': u'en',\n",
       "   u'onmousedown': u\"indeed_clk(this,'2746');\",\n",
       "   u'snippet': u'Setup and drive executive <b>business</b> rhythms and drive decisions jointly with AWS. A Director of <b>Business</b> Development at Chef works with key partner relationships...',\n",
       "   u'source': u'Chef',\n",
       "   u'sponsored': False,\n",
       "   u'state': u'WA',\n",
       "   u'stations': u'',\n",
       "   u'url': u'http://www.indeed.com/viewjob?jk=a8485c51bc0da8d2&qd=Aoz6PZOz-XXMCdl1ju_jLous5YRLWalort9_iVz3HvgnI33CvOgevmPVr9OOH7FZRrmFno9B7_wNWWzP_XHfw6G3NC2DwzAlJXGgSeROYraZLhctA_656uNncSON-5PvyI0LoXuNiCUzx1FsLQxuZcu0NvuqygZrHG8dujxIpqj1xfv2JWee_rU_zB41Og_UDbgyPOhdY6xQ3KLuOremBg&indpubnum=7693159125596228&atk=1bhfv1gdc19tv58g'},\n",
       "  {u'city': u'Seattle',\n",
       "   u'company': u'Liberty Mutual',\n",
       "   u'country': u'US',\n",
       "   u'date': u'Wed, 31 May 2017 14:05:59 GMT',\n",
       "   u'expired': False,\n",
       "   u'formattedLocation': u'Seattle, WA',\n",
       "   u'formattedLocationFull': u'Seattle, WA',\n",
       "   u'formattedRelativeTime': u'5 hours ago',\n",
       "   u'indeedApply': False,\n",
       "   u'jobkey': u'817ba672fb04c254',\n",
       "   u'jobtitle': u'Consultant/Assistant Director, New Business Pricing',\n",
       "   u'language': u'en',\n",
       "   u'onmousedown': u\"indeed_clk(this,'2746');\",\n",
       "   u'snippet': u'The US Consumer Markets Product Management Strategy &amp; Solutions team has an opening for an analytical, strategic, and technically adept <b>analyst</b> in the New...',\n",
       "   u'source': u'Liberty Mutual',\n",
       "   u'sponsored': False,\n",
       "   u'state': u'WA',\n",
       "   u'stations': u'',\n",
       "   u'url': u'http://www.indeed.com/viewjob?jk=817ba672fb04c254&qd=Aoz6PZOz-XXMCdl1ju_jLous5YRLWalort9_iVz3HvgnI33CvOgevmPVr9OOH7FZRrmFno9B7_wNWWzP_XHfw6G3NC2DwzAlJXGgSeROYraZLhctA_656uNncSON-5PvyI0LoXuNiCUzx1FsLQxuZcu0NvuqygZrHG8dujxIpqj1xfv2JWee_rU_zB41Og_UDbgyPOhdY6xQ3KLuOremBg&indpubnum=7693159125596228&atk=1bhfv1gdc19tv58g'},\n",
       "  {u'city': u'Seattle',\n",
       "   u'company': u'Sanofi US',\n",
       "   u'country': u'US',\n",
       "   u'date': u'Wed, 31 May 2017 15:07:08 GMT',\n",
       "   u'expired': False,\n",
       "   u'formattedLocation': u'Seattle, WA',\n",
       "   u'formattedLocationFull': u'Seattle, WA',\n",
       "   u'formattedRelativeTime': u'4 hours ago',\n",
       "   u'indeedApply': False,\n",
       "   u'jobkey': u'2dbecadbf3ab9d51',\n",
       "   u'jobtitle': u'Vaccine Specialist - Seattle East',\n",
       "   u'language': u'en',\n",
       "   u'onmousedown': u\"indeed_clk(this,'2746');\",\n",
       "   u'snippet': u'2 years <b>business</b> to <b>business</b> sales experience. Required, preferably in Immunology, Biology or <b>Business</b>. Vaccine Specialist - Seattle, WA....',\n",
       "   u'source': u'SanofiUS',\n",
       "   u'sponsored': False,\n",
       "   u'state': u'WA',\n",
       "   u'stations': u'',\n",
       "   u'url': u'http://www.indeed.com/viewjob?jk=2dbecadbf3ab9d51&qd=Aoz6PZOz-XXMCdl1ju_jLous5YRLWalort9_iVz3HvgnI33CvOgevmPVr9OOH7FZRrmFno9B7_wNWWzP_XHfw6G3NC2DwzAlJXGgSeROYraZLhctA_656uNncSON-5PvyI0LoXuNiCUzx1FsLQxuZcu0NvuqygZrHG8dujxIpqj1xfv2JWee_rU_zB41Og_UDbgyPOhdY6xQ3KLuOremBg&indpubnum=7693159125596228&atk=1bhfv1gdc19tv58g'},\n",
       "  {u'city': u'Redmond',\n",
       "   u'company': u'Compass Group USA',\n",
       "   u'country': u'US',\n",
       "   u'date': u'Wed, 31 May 2017 16:16:40 GMT',\n",
       "   u'expired': False,\n",
       "   u'formattedLocation': u'Redmond, WA',\n",
       "   u'formattedLocationFull': u'Redmond, WA',\n",
       "   u'formattedRelativeTime': u'3 hours ago',\n",
       "   u'indeedApply': False,\n",
       "   u'jobkey': u'0ed4d595c0314b83',\n",
       "   u'jobtitle': u'BUSINESS INTELLIGENCE ANALYST',\n",
       "   u'language': u'en',\n",
       "   u'onmousedown': u\"indeed_clk(this,'2746');\",\n",
       "   u'snippet': u'3+ years of experience in the reporting and <b>data</b> visualization, <b>data</b> mining, analysis, and/or <b>business</b> <b>intelligence</b> space including advanced <b>data</b> reporting and...',\n",
       "   u'source': u'Compass Group USA',\n",
       "   u'sponsored': False,\n",
       "   u'state': u'WA',\n",
       "   u'stations': u'',\n",
       "   u'url': u'http://www.indeed.com/viewjob?jk=0ed4d595c0314b83&qd=Aoz6PZOz-XXMCdl1ju_jLous5YRLWalort9_iVz3HvgnI33CvOgevmPVr9OOH7FZRrmFno9B7_wNWWzP_XHfw6G3NC2DwzAlJXGgSeROYraZLhctA_656uNncSON-5PvyI0LoXuNiCUzx1FsLQxuZcu0NvuqygZrHG8dujxIpqj1xfv2JWee_rU_zB41Og_UDbgyPOhdY6xQ3KLuOremBg&indpubnum=7693159125596228&atk=1bhfv1gdc19tv58g'},\n",
       "  {u'city': u'Seattle',\n",
       "   u'company': u'The JPI Group',\n",
       "   u'country': u'US',\n",
       "   u'date': u'Wed, 31 May 2017 16:33:54 GMT',\n",
       "   u'expired': False,\n",
       "   u'formattedLocation': u'Seattle, WA',\n",
       "   u'formattedLocationFull': u'Seattle, WA',\n",
       "   u'formattedRelativeTime': u'2 hours ago',\n",
       "   u'indeedApply': True,\n",
       "   u'jobkey': u'70c865f3858ff6c1',\n",
       "   u'jobtitle': u'Sr. Software Developer (.net, C#) local to Seattle only',\n",
       "   u'language': u'en',\n",
       "   u'onmousedown': u\"indeed_clk(this,'2746');\",\n",
       "   u'snippet': u'O *<b>Business</b> <b>Intelligence</b> experience*. Degree in Computer Science, MIS, <b>Business</b> or equivalent work experience required....',\n",
       "   u'source': u'Indeed',\n",
       "   u'sponsored': False,\n",
       "   u'state': u'WA',\n",
       "   u'stations': u'',\n",
       "   u'url': u'http://www.indeed.com/viewjob?jk=70c865f3858ff6c1&qd=Aoz6PZOz-XXMCdl1ju_jLous5YRLWalort9_iVz3HvgnI33CvOgevmPVr9OOH7FZRrmFno9B7_wNWWzP_XHfw6G3NC2DwzAlJXGgSeROYraZLhctA_656uNncSON-5PvyI0LoXuNiCUzx1FsLQxuZcu0NvuqygZrHG8dujxIpqj1xfv2JWee_rU_zB41Og_UDbgyPOhdY6xQ3KLuOremBg&indpubnum=7693159125596228&atk=1bhfv1gdc19tv58g'},\n",
       "  {u'city': u'Seattle',\n",
       "   u'company': u'Singular Analysts Inc',\n",
       "   u'country': u'US',\n",
       "   u'date': u'Wed, 31 May 2017 14:16:50 GMT',\n",
       "   u'expired': False,\n",
       "   u'formattedLocation': u'Seattle, WA',\n",
       "   u'formattedLocationFull': u'Seattle, WA',\n",
       "   u'formattedRelativeTime': u'5 hours ago',\n",
       "   u'indeedApply': True,\n",
       "   u'jobkey': u'25346854e65129ae',\n",
       "   u'jobtitle': u'Sr. Dot Net Developer',\n",
       "   u'language': u'en',\n",
       "   u'onmousedown': u\"indeed_clk(this,'2746');\",\n",
       "   u'snippet': u'*Job Title: Sr. Dot Net Developer* *Location: Seattle, WA* *Duration: Long Term* *Must Have 10+ years experience* *only GC & citizens* *Technical Skills: ',\n",
       "   u'source': u'Indeed',\n",
       "   u'sponsored': False,\n",
       "   u'state': u'WA',\n",
       "   u'stations': u'',\n",
       "   u'url': u'http://www.indeed.com/viewjob?jk=25346854e65129ae&qd=Aoz6PZOz-XXMCdl1ju_jLous5YRLWalort9_iVz3HvgnI33CvOgevmPVr9OOH7FZRrmFno9B7_wNWWzP_XHfw6G3NC2DwzAlJXGgSeROYraZLhctA_656uNncSON-5PvyI0LoXuNiCUzx1FsLQxuZcu0NvuqygZrHG8dujxIpqj1xfv2JWee_rU_zB41Og_UDbgyPOhdY6xQ3KLuOremBg&indpubnum=7693159125596228&atk=1bhfv1gdc19tv58g'},\n",
       "  {u'city': u'Kent',\n",
       "   u'company': u'NW Wholesaler Inc',\n",
       "   u'country': u'US',\n",
       "   u'date': u'Wed, 31 May 2017 15:34:18 GMT',\n",
       "   u'expired': False,\n",
       "   u'formattedLocation': u'Kent, WA',\n",
       "   u'formattedLocationFull': u'Kent, WA 98032',\n",
       "   u'formattedRelativeTime': u'3 hours ago',\n",
       "   u'indeedApply': True,\n",
       "   u'jobkey': u'4214f478708fc60e',\n",
       "   u'jobtitle': u'Tropical Plant Assembler',\n",
       "   u'language': u'en',\n",
       "   u'onmousedown': u\"indeed_clk(this,'2746');\",\n",
       "   u'snippet': u'Being in <b>business</b> for over 15 years, here at NW Wholesaler we pride ourselves in superior products and excellent customer service. NW Wholesaler Inc....',\n",
       "   u'source': u'Indeed',\n",
       "   u'sponsored': False,\n",
       "   u'state': u'WA',\n",
       "   u'stations': u'',\n",
       "   u'url': u'http://www.indeed.com/viewjob?jk=4214f478708fc60e&qd=Aoz6PZOz-XXMCdl1ju_jLous5YRLWalort9_iVz3HvgnI33CvOgevmPVr9OOH7FZRrmFno9B7_wNWWzP_XHfw6G3NC2DwzAlJXGgSeROYraZLhctA_656uNncSON-5PvyI0LoXuNiCUzx1FsLQxuZcu0NvuqygZrHG8dujxIpqj1xfv2JWee_rU_zB41Og_UDbgyPOhdY6xQ3KLuOremBg&indpubnum=7693159125596228&atk=1bhfv1gdc19tv58g'},\n",
       "  {u'city': u'Kent',\n",
       "   u'company': u'Univar',\n",
       "   u'country': u'US',\n",
       "   u'date': u'Wed, 31 May 2017 15:44:25 GMT',\n",
       "   u'expired': False,\n",
       "   u'formattedLocation': u'Kent, WA',\n",
       "   u'formattedLocationFull': u'Kent, WA',\n",
       "   u'formattedRelativeTime': u'3 hours ago',\n",
       "   u'indeedApply': False,\n",
       "   u'jobkey': u'd0f9a80ff5b4f570',\n",
       "   u'jobtitle': u'Municipal Specialist',\n",
       "   u'language': u'en',\n",
       "   u'onmousedown': u\"indeed_clk(this,'2746');\",\n",
       "   u'snippet': u'Uses Univar USA resources to provide solutions to customer needs and gather market <b>intelligence</b>. Create effective customer relationships through developing a...',\n",
       "   u'source': u'Univar',\n",
       "   u'sponsored': False,\n",
       "   u'state': u'WA',\n",
       "   u'stations': u'',\n",
       "   u'url': u'http://www.indeed.com/viewjob?jk=d0f9a80ff5b4f570&qd=Aoz6PZOz-XXMCdl1ju_jLous5YRLWalort9_iVz3HvgnI33CvOgevmPVr9OOH7FZRrmFno9B7_wNWWzP_XHfw6G3NC2DwzAlJXGgSeROYraZLhctA_656uNncSON-5PvyI0LoXuNiCUzx1FsLQxuZcu0NvuqygZrHG8dujxIpqj1xfv2JWee_rU_zB41Og_UDbgyPOhdY6xQ3KLuOremBg&indpubnum=7693159125596228&atk=1bhfv1gdc19tv58g'},\n",
       "  {u'city': u'Seattle',\n",
       "   u'company': u'DCI Engineers',\n",
       "   u'country': u'US',\n",
       "   u'date': u'Wed, 31 May 2017 17:58:42 GMT',\n",
       "   u'expired': False,\n",
       "   u'formattedLocation': u'Seattle, WA',\n",
       "   u'formattedLocationFull': u'Seattle, WA 98101',\n",
       "   u'formattedRelativeTime': u'1 hour ago',\n",
       "   u'indeedApply': True,\n",
       "   u'jobkey': u'efd2089f2e0d2870',\n",
       "   u'jobtitle': u'Staff Accountant',\n",
       "   u'language': u'en',\n",
       "   u'onmousedown': u\"indeed_clk(this,'2746');\",\n",
       "   u'snippet': u'Assist <b>engineers</b> with project entry into database. Update project/jobs in database (Deltek), to include project maintenance and billing terms setup....',\n",
       "   u'source': u'DCI Engineers',\n",
       "   u'sponsored': False,\n",
       "   u'state': u'WA',\n",
       "   u'stations': u'',\n",
       "   u'url': u'http://www.indeed.com/viewjob?jk=efd2089f2e0d2870&qd=Aoz6PZOz-XXMCdl1ju_jLous5YRLWalort9_iVz3HvgnI33CvOgevmPVr9OOH7FZRrmFno9B7_wNWWzP_XHfw6G3NC2DwzAlJXGgSeROYraZLhctA_656uNncSON-5PvyI0LoXuNiCUzx1FsLQxuZcu0NvuqygZrHG8dujxIpqj1xfv2JWee_rU_zB41Og_UDbgyPOhdY6xQ3KLuOremBg&indpubnum=7693159125596228&atk=1bhfv1gdc19tv58g'},\n",
       "  {u'city': u'Seattle',\n",
       "   u'company': u'Third Eye',\n",
       "   u'country': u'US',\n",
       "   u'date': u'Wed, 31 May 2017 14:31:45 GMT',\n",
       "   u'expired': False,\n",
       "   u'formattedLocation': u'Seattle, WA',\n",
       "   u'formattedLocationFull': u'Seattle, WA 98105',\n",
       "   u'formattedRelativeTime': u'4 hours ago',\n",
       "   u'indeedApply': False,\n",
       "   u'jobkey': u'6a030f8bcce6e831',\n",
       "   u'jobtitle': u'SQL Developer - with AWS exp.',\n",
       "   u'language': u'en',\n",
       "   u'onmousedown': u\"indeed_clk(this,'2746');\",\n",
       "   u'snippet': u'Perform complex <b>data</b> analysis and understand how <b>business</b> processes are tied to underlying <b>data</b>. Design and develop enterprise <b>data</b> warehouse platform,...',\n",
       "   u'source': u'Third Eye',\n",
       "   u'sponsored': False,\n",
       "   u'state': u'WA',\n",
       "   u'stations': u'',\n",
       "   u'url': u'http://www.indeed.com/viewjob?jk=6a030f8bcce6e831&qd=Aoz6PZOz-XXMCdl1ju_jLous5YRLWalort9_iVz3HvgnI33CvOgevmPVr9OOH7FZRrmFno9B7_wNWWzP_XHfw6G3NC2DwzAlJXGgSeROYraZLhctA_656uNncSON-5PvyI0LoXuNiCUzx1FsLQxuZcu0NvuqygZrHG8dujxIpqj1xfv2JWee_rU_zB41Og_UDbgyPOhdY6xQ3KLuOremBg&indpubnum=7693159125596228&atk=1bhfv1gdc19tv58g'},\n",
       "  {u'city': u'Bellevue',\n",
       "   u'company': u'Singular Analysts Inc',\n",
       "   u'country': u'US',\n",
       "   u'date': u'Wed, 31 May 2017 14:25:16 GMT',\n",
       "   u'expired': False,\n",
       "   u'formattedLocation': u'Bellevue, WA',\n",
       "   u'formattedLocationFull': u'Bellevue, WA',\n",
       "   u'formattedRelativeTime': u'4 hours ago',\n",
       "   u'indeedApply': True,\n",
       "   u'jobkey': u'b5c61340f2f95a85',\n",
       "   u'jobtitle': u'Sr. SQL Server Developer',\n",
       "   u'language': u'en',\n",
       "   u'onmousedown': u\"indeed_clk(this,'2746');\",\n",
       "   u'snippet': u'*Sr. SQL Server Developer* *only USC* *Location: Bellevue, WA* *Benefits Offered: Vision, Medical, Dental* *Employment Type: Full-Time* *Qualifications: * ',\n",
       "   u'source': u'Indeed',\n",
       "   u'sponsored': False,\n",
       "   u'state': u'WA',\n",
       "   u'stations': u'',\n",
       "   u'url': u'http://www.indeed.com/viewjob?jk=b5c61340f2f95a85&qd=Aoz6PZOz-XXMCdl1ju_jLous5YRLWalort9_iVz3HvgnI33CvOgevmPVr9OOH7FZRrmFno9B7_wNWWzP_XHfw6G3NC2DwzAlJXGgSeROYraZLhctA_656uNncSON-5PvyI0LoXuNiCUzx1FsLQxuZcu0NvuqygZrHG8dujxIpqj1xfv2JWee_rU_zB41Og_UDbgyPOhdY6xQ3KLuOremBg&indpubnum=7693159125596228&atk=1bhfv1gdc19tv58g'},\n",
       "  {u'city': u'Redmond',\n",
       "   u'company': u'Pactera Technologies',\n",
       "   u'country': u'US',\n",
       "   u'date': u'Wed, 31 May 2017 17:24:02 GMT',\n",
       "   u'expired': False,\n",
       "   u'formattedLocation': u'Redmond, WA',\n",
       "   u'formattedLocationFull': u'Redmond, WA',\n",
       "   u'formattedRelativeTime': u'1 hour ago',\n",
       "   u'indeedApply': True,\n",
       "   u'jobkey': u'52ec80a95889685e',\n",
       "   u'jobtitle': u'Support Engineer',\n",
       "   u'language': u'en',\n",
       "   u'onmousedown': u\"indeed_clk(this,'2746');\",\n",
       "   u'snippet': u\"With more than 26,000 employees worldwide, the company's global footprint encompasses a diverse offering of technologies, services and <b>business</b> models focused...\",\n",
       "   u'source': u'Indeed',\n",
       "   u'sponsored': False,\n",
       "   u'state': u'WA',\n",
       "   u'stations': u'',\n",
       "   u'url': u'http://www.indeed.com/viewjob?jk=52ec80a95889685e&qd=Aoz6PZOz-XXMCdl1ju_jLous5YRLWalort9_iVz3HvgnI33CvOgevmPVr9OOH7FZRrmFno9B7_wNWWzP_XHfw6G3NC2DwzAlJXGgSeROYraZLhctA_656uNncSON-5PvyI0LoXuNiCUzx1FsLQxuZcu0NvuqygZrHG8dujxIpqj1xfv2JWee_rU_zB41Og_UDbgyPOhdY6xQ3KLuOremBg&indpubnum=7693159125596228&atk=1bhfv1gdc19tv58g'},\n",
       "  {u'city': u'Redmond',\n",
       "   u'company': u'Pactera Technologies',\n",
       "   u'country': u'US',\n",
       "   u'date': u'Wed, 31 May 2017 17:21:39 GMT',\n",
       "   u'expired': False,\n",
       "   u'formattedLocation': u'Redmond, WA',\n",
       "   u'formattedLocationFull': u'Redmond, WA',\n",
       "   u'formattedRelativeTime': u'1 hour ago',\n",
       "   u'indeedApply': True,\n",
       "   u'jobkey': u'5981c8dbecbabc9f',\n",
       "   u'jobtitle': u'Lab Engineer',\n",
       "   u'language': u'en',\n",
       "   u'onmousedown': u\"indeed_clk(this,'2746');\",\n",
       "   u'snippet': u\"With more than 26,000 employees worldwide, the company's global footprint encompasses a diverse offering of technologies, services and <b>business</b> models focused...\",\n",
       "   u'source': u'Indeed',\n",
       "   u'sponsored': False,\n",
       "   u'state': u'WA',\n",
       "   u'stations': u'',\n",
       "   u'url': u'http://www.indeed.com/viewjob?jk=5981c8dbecbabc9f&qd=Aoz6PZOz-XXMCdl1ju_jLous5YRLWalort9_iVz3HvgnI33CvOgevmPVr9OOH7FZRrmFno9B7_wNWWzP_XHfw6G3NC2DwzAlJXGgSeROYraZLhctA_656uNncSON-5PvyI0LoXuNiCUzx1FsLQxuZcu0NvuqygZrHG8dujxIpqj1xfv2JWee_rU_zB41Og_UDbgyPOhdY6xQ3KLuOremBg&indpubnum=7693159125596228&atk=1bhfv1gdc19tv58g'},\n",
       "  {u'city': u'Redmond',\n",
       "   u'company': u'ITconnectUS inc',\n",
       "   u'country': u'US',\n",
       "   u'date': u'Wed, 31 May 2017 17:08:02 GMT',\n",
       "   u'expired': False,\n",
       "   u'formattedLocation': u'Redmond, WA',\n",
       "   u'formattedLocationFull': u'Redmond, WA',\n",
       "   u'formattedRelativeTime': u'2 hours ago',\n",
       "   u'indeedApply': True,\n",
       "   u'jobkey': u'dab3a222d65babd2',\n",
       "   u'jobtitle': u'SCOM Engineer',\n",
       "   u'language': u'en',\n",
       "   u'onmousedown': u\"indeed_clk(this,'2746');\",\n",
       "   u'snippet': u'The SCOM <b>Engineer</b> will be responsible for collaborating with service <b>engineers</b>, vendor support, and customers to determine requirements for filters, events,...',\n",
       "   u'source': u'Indeed',\n",
       "   u'sponsored': False,\n",
       "   u'state': u'WA',\n",
       "   u'stations': u'',\n",
       "   u'url': u'http://www.indeed.com/viewjob?jk=dab3a222d65babd2&qd=Aoz6PZOz-XXMCdl1ju_jLous5YRLWalort9_iVz3HvgnI33CvOgevmPVr9OOH7FZRrmFno9B7_wNWWzP_XHfw6G3NC2DwzAlJXGgSeROYraZLhctA_656uNncSON-5PvyI0LoXuNiCUzx1FsLQxuZcu0NvuqygZrHG8dujxIpqj1xfv2JWee_rU_zB41Og_UDbgyPOhdY6xQ3KLuOremBg&indpubnum=7693159125596228&atk=1bhfv1gdc19tv58g'},\n",
       "  {u'city': u'Redmond',\n",
       "   u'company': u'Hire IT People Inc',\n",
       "   u'country': u'US',\n",
       "   u'date': u'Wed, 31 May 2017 13:37:27 GMT',\n",
       "   u'expired': False,\n",
       "   u'formattedLocation': u'Redmond, WA',\n",
       "   u'formattedLocationFull': u'Redmond, WA',\n",
       "   u'formattedRelativeTime': u'5 hours ago',\n",
       "   u'indeedApply': True,\n",
       "   u'jobkey': u'8aea0fa0a20dbdb9',\n",
       "   u'jobtitle': u'SCOM Engineer',\n",
       "   u'language': u'en',\n",
       "   u'onmousedown': u\"indeed_clk(this,'2746');\",\n",
       "   u'snippet': u'The SCOM <b>Engineer</b> will be responsible for collaborating with service <b>engineers</b>, vendor support, and customers to determine requirements for filters, events,...',\n",
       "   u'source': u'Indeed',\n",
       "   u'sponsored': False,\n",
       "   u'state': u'WA',\n",
       "   u'stations': u'',\n",
       "   u'url': u'http://www.indeed.com/viewjob?jk=8aea0fa0a20dbdb9&qd=Aoz6PZOz-XXMCdl1ju_jLous5YRLWalort9_iVz3HvgnI33CvOgevmPVr9OOH7FZRrmFno9B7_wNWWzP_XHfw6G3NC2DwzAlJXGgSeROYraZLhctA_656uNncSON-5PvyI0LoXuNiCUzx1FsLQxuZcu0NvuqygZrHG8dujxIpqj1xfv2JWee_rU_zB41Og_UDbgyPOhdY6xQ3KLuOremBg&indpubnum=7693159125596228&atk=1bhfv1gdc19tv58g'},\n",
       "  {u'city': u'Seattle',\n",
       "   u'company': u'Amazon.com',\n",
       "   u'country': u'US',\n",
       "   u'date': u'Wed, 31 May 2017 16:27:55 GMT',\n",
       "   u'expired': False,\n",
       "   u'formattedLocation': u'Seattle, WA',\n",
       "   u'formattedLocationFull': u'Seattle, WA 98101',\n",
       "   u'formattedRelativeTime': u'2 hours ago',\n",
       "   u'indeedApply': True,\n",
       "   u'jobkey': u'7baaba224c10b0d4',\n",
       "   u'jobtitle': u'Head of Vendor Management - Consumer Electronics',\n",
       "   u'language': u'en',\n",
       "   u'onmousedown': u\"indeed_clk(this,'2746');\",\n",
       "   u'snippet': u'Amazon is looking for a driven, experienced <b>business</b> leader for the Consumer Electronics <b>business</b>. The successful candidate will utilize and expand skills in e...',\n",
       "   u'source': u'Indeed',\n",
       "   u'sponsored': False,\n",
       "   u'state': u'WA',\n",
       "   u'stations': u'',\n",
       "   u'url': u'http://www.indeed.com/viewjob?jk=7baaba224c10b0d4&qd=Aoz6PZOz-XXMCdl1ju_jLous5YRLWalort9_iVz3HvgnI33CvOgevmPVr9OOH7FZRrmFno9B7_wNWWzP_XHfw6G3NC2DwzAlJXGgSeROYraZLhctA_656uNncSON-5PvyI0LoXuNiCUzx1FsLQxuZcu0NvuqygZrHG8dujxIpqj1xfv2JWee_rU_zB41Og_UDbgyPOhdY6xQ3KLuOremBg&indpubnum=7693159125596228&atk=1bhfv1gdc19tv58g'},\n",
       "  {u'city': u'Seattle',\n",
       "   u'company': u'Amazon.com',\n",
       "   u'country': u'US',\n",
       "   u'date': u'Wed, 31 May 2017 16:19:53 GMT',\n",
       "   u'expired': False,\n",
       "   u'formattedLocation': u'Seattle, WA',\n",
       "   u'formattedLocationFull': u'Seattle, WA 98101',\n",
       "   u'formattedRelativeTime': u'2 hours ago',\n",
       "   u'indeedApply': True,\n",
       "   u'jobkey': u'b37dfc32bb3afe00',\n",
       "   u'jobtitle': u'Amazon Fresh - Head of Vendor Management',\n",
       "   u'language': u'en',\n",
       "   u'onmousedown': u\"indeed_clk(this,'2746');\",\n",
       "   u'snippet': u'This leader will own vendor acquisition and negotiation, expansion and assortment planning, our Fresh unique road map, and will drive key <b>business</b> metrics for...',\n",
       "   u'source': u'Indeed',\n",
       "   u'sponsored': False,\n",
       "   u'state': u'WA',\n",
       "   u'stations': u'',\n",
       "   u'url': u'http://www.indeed.com/viewjob?jk=b37dfc32bb3afe00&qd=Aoz6PZOz-XXMCdl1ju_jLous5YRLWalort9_iVz3HvgnI33CvOgevmPVr9OOH7FZRrmFno9B7_wNWWzP_XHfw6G3NC2DwzAlJXGgSeROYraZLhctA_656uNncSON-5PvyI0LoXuNiCUzx1FsLQxuZcu0NvuqygZrHG8dujxIpqj1xfv2JWee_rU_zB41Og_UDbgyPOhdY6xQ3KLuOremBg&indpubnum=7693159125596228&atk=1bhfv1gdc19tv58g'},\n",
       "  {u'city': u'Seattle',\n",
       "   u'company': u'OmniFAB, Inc.',\n",
       "   u'country': u'US',\n",
       "   u'date': u'Wed, 31 May 2017 16:05:33 GMT',\n",
       "   u'expired': False,\n",
       "   u'formattedLocation': u'Seattle, WA',\n",
       "   u'formattedLocationFull': u'Seattle, WA',\n",
       "   u'formattedRelativeTime': u'3 hours ago',\n",
       "   u'indeedApply': True,\n",
       "   u'jobkey': u'9634edee0207432c',\n",
       "   u'jobtitle': u'Logistics Coordinator',\n",
       "   u'language': u'en',\n",
       "   u'onmousedown': u\"indeed_clk(this,'2746');\",\n",
       "   u'snippet': u'You will assist in all aspects of shipping while learning an exciting <b>business</b>. The Logistics Coordinator will directly report to the Logistics Manager and will...',\n",
       "   u'source': u'Indeed',\n",
       "   u'sponsored': False,\n",
       "   u'state': u'WA',\n",
       "   u'stations': u'',\n",
       "   u'url': u'http://www.indeed.com/viewjob?jk=9634edee0207432c&qd=Aoz6PZOz-XXMCdl1ju_jLous5YRLWalort9_iVz3HvgnI33CvOgevmPVr9OOH7FZRrmFno9B7_wNWWzP_XHfw6G3NC2DwzAlJXGgSeROYraZLhctA_656uNncSON-5PvyI0LoXuNiCUzx1FsLQxuZcu0NvuqygZrHG8dujxIpqj1xfv2JWee_rU_zB41Og_UDbgyPOhdY6xQ3KLuOremBg&indpubnum=7693159125596228&atk=1bhfv1gdc19tv58g'}],\n",
       " u'start': 1,\n",
       " u'totalResults': 29461,\n",
       " u'version': 2}"
      ]
     },
     "execution_count": 64,
     "metadata": {},
     "output_type": "execute_result"
    }
   ],
   "source": [
    "# Testing out the API to get a functioning search going\n",
    "\n",
    "params = {\n",
    "    'q' : \"data or scientist or analyst or engineer or business or intelligence\",\n",
    "    'l' : \"Seattle, WA\",\n",
    "    'userip' : \"10.1.6.148\",\n",
    "    'useragent' : \"Mozilla/5.0 (Macintosh; Intel Mac OS X 10_10_1) AppleWebKit/537.36 (KHTML, like Gecko) Chrome/41.0.2227.1 Safari/537.36\",\n",
    "    'sort' : 'date',\n",
    "    'limit' : '25'\n",
    "}\n",
    "\n",
    "search_response = client.search(**params)\n",
    "\n",
    "search_response"
   ]
  },
  {
   "cell_type": "code",
   "execution_count": 65,
   "metadata": {
    "collapsed": false
   },
   "outputs": [
    {
     "data": {
      "text/plain": [
       "dict"
      ]
     },
     "execution_count": 65,
     "metadata": {},
     "output_type": "execute_result"
    }
   ],
   "source": [
    "type(search_response)"
   ]
  },
  {
   "cell_type": "code",
   "execution_count": 66,
   "metadata": {
    "collapsed": false
   },
   "outputs": [],
   "source": [
    "test = pd.DataFrame(search_response['results'])"
   ]
  },
  {
   "cell_type": "code",
   "execution_count": 67,
   "metadata": {
    "collapsed": false,
    "scrolled": true
   },
   "outputs": [
    {
     "data": {
      "text/html": [
       "<div>\n",
       "<table border=\"1\" class=\"dataframe\">\n",
       "  <thead>\n",
       "    <tr style=\"text-align: right;\">\n",
       "      <th></th>\n",
       "      <th>city</th>\n",
       "      <th>company</th>\n",
       "      <th>country</th>\n",
       "      <th>date</th>\n",
       "      <th>expired</th>\n",
       "      <th>formattedLocation</th>\n",
       "      <th>formattedLocationFull</th>\n",
       "      <th>formattedRelativeTime</th>\n",
       "      <th>indeedApply</th>\n",
       "      <th>jobkey</th>\n",
       "      <th>jobtitle</th>\n",
       "      <th>language</th>\n",
       "      <th>onmousedown</th>\n",
       "      <th>snippet</th>\n",
       "      <th>source</th>\n",
       "      <th>sponsored</th>\n",
       "      <th>state</th>\n",
       "      <th>stations</th>\n",
       "      <th>url</th>\n",
       "    </tr>\n",
       "  </thead>\n",
       "  <tbody>\n",
       "    <tr>\n",
       "      <th>0</th>\n",
       "      <td>Seattle</td>\n",
       "      <td>Parsons Corporation</td>\n",
       "      <td>US</td>\n",
       "      <td>Wed, 31 May 2017 16:29:39 GMT</td>\n",
       "      <td>False</td>\n",
       "      <td>Seattle, WA</td>\n",
       "      <td>Seattle, WA 98101</td>\n",
       "      <td>2 hours ago</td>\n",
       "      <td>False</td>\n",
       "      <td>4144fdc8da99c5f6</td>\n",
       "      <td>Project Engineer -Civil Road Highway</td>\n",
       "      <td>en</td>\n",
       "      <td>indeed_clk(this,'2746');</td>\n",
       "      <td>Civil Project Road &amp;amp; Highway &lt;b&gt;Engineer&lt;/...</td>\n",
       "      <td>Parsons Corporation</td>\n",
       "      <td>False</td>\n",
       "      <td>WA</td>\n",
       "      <td></td>\n",
       "      <td>http://www.indeed.com/viewjob?jk=4144fdc8da99c...</td>\n",
       "    </tr>\n",
       "    <tr>\n",
       "      <th>1</th>\n",
       "      <td>Redmond</td>\n",
       "      <td>E- Solutionsinc</td>\n",
       "      <td>US</td>\n",
       "      <td>Wed, 31 May 2017 15:48:09 GMT</td>\n",
       "      <td>False</td>\n",
       "      <td>Redmond, WA</td>\n",
       "      <td>Redmond, WA</td>\n",
       "      <td>3 hours ago</td>\n",
       "      <td>True</td>\n",
       "      <td>fc7ab33591f2435b</td>\n",
       "      <td>System Test Engineer</td>\n",
       "      <td>en</td>\n",
       "      <td>indeed_clk(this,'2746');</td>\n",
       "      <td>System Testing &lt;b&gt;Engineer&lt;/b&gt;*. Looking for L...</td>\n",
       "      <td>Indeed</td>\n",
       "      <td>False</td>\n",
       "      <td>WA</td>\n",
       "      <td></td>\n",
       "      <td>http://www.indeed.com/viewjob?jk=fc7ab33591f24...</td>\n",
       "    </tr>\n",
       "    <tr>\n",
       "      <th>2</th>\n",
       "      <td>Redmond</td>\n",
       "      <td>E- Solutionsinc</td>\n",
       "      <td>US</td>\n",
       "      <td>Wed, 31 May 2017 15:42:35 GMT</td>\n",
       "      <td>False</td>\n",
       "      <td>Redmond, WA</td>\n",
       "      <td>Redmond, WA</td>\n",
       "      <td>3 hours ago</td>\n",
       "      <td>True</td>\n",
       "      <td>b019bdc1676fbbfa</td>\n",
       "      <td>System Testing Engineer</td>\n",
       "      <td>en</td>\n",
       "      <td>indeed_clk(this,'2746');</td>\n",
       "      <td>System Testing &lt;b&gt;Engineer&lt;/b&gt;*. Looking for L...</td>\n",
       "      <td>Indeed</td>\n",
       "      <td>False</td>\n",
       "      <td>WA</td>\n",
       "      <td></td>\n",
       "      <td>http://www.indeed.com/viewjob?jk=b019bdc1676fb...</td>\n",
       "    </tr>\n",
       "    <tr>\n",
       "      <th>3</th>\n",
       "      <td>Redmond</td>\n",
       "      <td>HMG America LLC</td>\n",
       "      <td>US</td>\n",
       "      <td>Wed, 31 May 2017 15:14:20 GMT</td>\n",
       "      <td>False</td>\n",
       "      <td>Redmond, WA</td>\n",
       "      <td>Redmond, WA</td>\n",
       "      <td>4 hours ago</td>\n",
       "      <td>True</td>\n",
       "      <td>b76a9dca78417439</td>\n",
       "      <td>SCOM Engineer (Local candidates preferred)</td>\n",
       "      <td>en</td>\n",
       "      <td>indeed_clk(this,'2746');</td>\n",
       "      <td>The SCOM &lt;b&gt;Engineer&lt;/b&gt; will be responsible f...</td>\n",
       "      <td>Indeed</td>\n",
       "      <td>False</td>\n",
       "      <td>WA</td>\n",
       "      <td></td>\n",
       "      <td>http://www.indeed.com/viewjob?jk=b76a9dca78417...</td>\n",
       "    </tr>\n",
       "    <tr>\n",
       "      <th>4</th>\n",
       "      <td>Redmond</td>\n",
       "      <td>AvalonBay Communities</td>\n",
       "      <td>US</td>\n",
       "      <td>Wed, 31 May 2017 13:31:26 GMT</td>\n",
       "      <td>False</td>\n",
       "      <td>Redmond, WA</td>\n",
       "      <td>Redmond, WA</td>\n",
       "      <td>5 hours ago</td>\n",
       "      <td>False</td>\n",
       "      <td>d41a2a26149362f9</td>\n",
       "      <td>Project Engineer</td>\n",
       "      <td>en</td>\n",
       "      <td>indeed_clk(this,'2746');</td>\n",
       "      <td>AvalonBay Communities, Inc., a national develo...</td>\n",
       "      <td>AvalonBay Communities</td>\n",
       "      <td>False</td>\n",
       "      <td>WA</td>\n",
       "      <td></td>\n",
       "      <td>http://www.indeed.com/viewjob?jk=d41a2a2614936...</td>\n",
       "    </tr>\n",
       "  </tbody>\n",
       "</table>\n",
       "</div>"
      ],
      "text/plain": [
       "      city                company country                           date  \\\n",
       "0  Seattle    Parsons Corporation      US  Wed, 31 May 2017 16:29:39 GMT   \n",
       "1  Redmond        E- Solutionsinc      US  Wed, 31 May 2017 15:48:09 GMT   \n",
       "2  Redmond        E- Solutionsinc      US  Wed, 31 May 2017 15:42:35 GMT   \n",
       "3  Redmond        HMG America LLC      US  Wed, 31 May 2017 15:14:20 GMT   \n",
       "4  Redmond  AvalonBay Communities      US  Wed, 31 May 2017 13:31:26 GMT   \n",
       "\n",
       "  expired formattedLocation formattedLocationFull formattedRelativeTime  \\\n",
       "0   False       Seattle, WA     Seattle, WA 98101           2 hours ago   \n",
       "1   False       Redmond, WA           Redmond, WA           3 hours ago   \n",
       "2   False       Redmond, WA           Redmond, WA           3 hours ago   \n",
       "3   False       Redmond, WA           Redmond, WA           4 hours ago   \n",
       "4   False       Redmond, WA           Redmond, WA           5 hours ago   \n",
       "\n",
       "  indeedApply            jobkey                                    jobtitle  \\\n",
       "0       False  4144fdc8da99c5f6        Project Engineer -Civil Road Highway   \n",
       "1        True  fc7ab33591f2435b                        System Test Engineer   \n",
       "2        True  b019bdc1676fbbfa                     System Testing Engineer   \n",
       "3        True  b76a9dca78417439  SCOM Engineer (Local candidates preferred)   \n",
       "4       False  d41a2a26149362f9                            Project Engineer   \n",
       "\n",
       "  language               onmousedown  \\\n",
       "0       en  indeed_clk(this,'2746');   \n",
       "1       en  indeed_clk(this,'2746');   \n",
       "2       en  indeed_clk(this,'2746');   \n",
       "3       en  indeed_clk(this,'2746');   \n",
       "4       en  indeed_clk(this,'2746');   \n",
       "\n",
       "                                             snippet                 source  \\\n",
       "0  Civil Project Road &amp; Highway <b>Engineer</...    Parsons Corporation   \n",
       "1  System Testing <b>Engineer</b>*. Looking for L...                 Indeed   \n",
       "2  System Testing <b>Engineer</b>*. Looking for L...                 Indeed   \n",
       "3  The SCOM <b>Engineer</b> will be responsible f...                 Indeed   \n",
       "4  AvalonBay Communities, Inc., a national develo...  AvalonBay Communities   \n",
       "\n",
       "  sponsored state stations                                                url  \n",
       "0     False    WA           http://www.indeed.com/viewjob?jk=4144fdc8da99c...  \n",
       "1     False    WA           http://www.indeed.com/viewjob?jk=fc7ab33591f24...  \n",
       "2     False    WA           http://www.indeed.com/viewjob?jk=b019bdc1676fb...  \n",
       "3     False    WA           http://www.indeed.com/viewjob?jk=b76a9dca78417...  \n",
       "4     False    WA           http://www.indeed.com/viewjob?jk=d41a2a2614936...  "
      ]
     },
     "execution_count": 67,
     "metadata": {},
     "output_type": "execute_result"
    }
   ],
   "source": [
    "test.head()"
   ]
  },
  {
   "cell_type": "code",
   "execution_count": 68,
   "metadata": {
    "collapsed": false
   },
   "outputs": [
    {
     "data": {
      "text/plain": [
       "(25, 19)"
      ]
     },
     "execution_count": 68,
     "metadata": {},
     "output_type": "execute_result"
    }
   ],
   "source": [
    "test.shape"
   ]
  },
  {
   "cell_type": "code",
   "execution_count": null,
   "metadata": {
    "collapsed": true
   },
   "outputs": [],
   "source": [
    "# From this first search, I notice that the listings I'm getting with the above keyword search is missing the mark.\n",
    "# Instead, I make requests with more targeted search terms below that together will form my data set. The search terms\n",
    "# are \"data scientist,\" \"data analyst,\" \"data engineer,\" \"business intelligence,\" and \"machine learning.\""
   ]
  },
  {
   "cell_type": "code",
   "execution_count": 226,
   "metadata": {
    "collapsed": true
   },
   "outputs": [],
   "source": [
    "df_ds = pd.DataFrame()"
   ]
  },
  {
   "cell_type": "code",
   "execution_count": 227,
   "metadata": {
    "collapsed": true
   },
   "outputs": [],
   "source": [
    "start_value = 0\n",
    "\n",
    "# The range size was determined by performing a similar search manually on indeed.com to get an estimate of the number\n",
    "# of listings each search should yield.\n",
    "\n",
    "for i in range(12):\n",
    "    params = {\n",
    "        'q' : '\"data scientist\"',\n",
    "        'l' : 'Seattle, WA',\n",
    "        'userip' : '10.1.6.148',\n",
    "        'useragent' : 'Mozilla/5.0 (Macintosh; Intel Mac OS X 10_10_1) AppleWebKit/537.36 (KHTML, like Gecko) Chrome/41.0.2227.1 Safari/537.36',\n",
    "        'sort' : 'date',\n",
    "        'limit' : '25',\n",
    "        'start' : start_value\n",
    "        }\n",
    "    search_response = client.search(**params)\n",
    "    df_ds = pd.concat([df_ds, pd.DataFrame(search_response['results'])])\n",
    "    start_value += 25\n",
    "    time.sleep(1) # sleep for 1 second between requests to slow down the search"
   ]
  },
  {
   "cell_type": "code",
   "execution_count": 228,
   "metadata": {
    "collapsed": false
   },
   "outputs": [
    {
     "data": {
      "text/plain": [
       "(252, 19)"
      ]
     },
     "execution_count": 228,
     "metadata": {},
     "output_type": "execute_result"
    }
   ],
   "source": [
    "df_ds.shape"
   ]
  },
  {
   "cell_type": "code",
   "execution_count": 229,
   "metadata": {
    "collapsed": false
   },
   "outputs": [
    {
     "data": {
      "text/plain": [
       "167"
      ]
     },
     "execution_count": 229,
     "metadata": {},
     "output_type": "execute_result"
    }
   ],
   "source": [
    "# Checking for duplicates. I'll delete them later, once I have all of my data from the API.\n",
    "len(df_ds['jobkey'].unique())"
   ]
  },
  {
   "cell_type": "code",
   "execution_count": 230,
   "metadata": {
    "collapsed": true
   },
   "outputs": [],
   "source": [
    "df_da = pd.DataFrame()"
   ]
  },
  {
   "cell_type": "code",
   "execution_count": 231,
   "metadata": {
    "collapsed": true
   },
   "outputs": [],
   "source": [
    "start_value = 0\n",
    "\n",
    "for i in range(8):\n",
    "    params = {\n",
    "        'q' : '\"data analyst\"',\n",
    "        'l' : 'Seattle, WA',\n",
    "        'userip' : '10.1.6.148',\n",
    "        'useragent' : 'Mozilla/5.0 (Macintosh; Intel Mac OS X 10_10_1) AppleWebKit/537.36 (KHTML, like Gecko) Chrome/41.0.2227.1 Safari/537.36',\n",
    "        'sort' : 'date',\n",
    "        'limit' : '25',\n",
    "        'start' : start_value\n",
    "        }\n",
    "    search_response = client.search(**params)\n",
    "    df_da = pd.concat([df_da, pd.DataFrame(search_response['results'])])\n",
    "    start_value += 25\n",
    "    time.sleep(1) # sleep for 1 second between requests to slow down the search"
   ]
  },
  {
   "cell_type": "code",
   "execution_count": 232,
   "metadata": {
    "collapsed": false
   },
   "outputs": [
    {
     "data": {
      "text/plain": [
       "(167, 19)"
      ]
     },
     "execution_count": 232,
     "metadata": {},
     "output_type": "execute_result"
    }
   ],
   "source": [
    "df_da.shape"
   ]
  },
  {
   "cell_type": "code",
   "execution_count": 233,
   "metadata": {
    "collapsed": false
   },
   "outputs": [
    {
     "data": {
      "text/plain": [
       "139"
      ]
     },
     "execution_count": 233,
     "metadata": {},
     "output_type": "execute_result"
    }
   ],
   "source": [
    "len(df_da['jobkey'].unique())"
   ]
  },
  {
   "cell_type": "code",
   "execution_count": 235,
   "metadata": {
    "collapsed": true
   },
   "outputs": [],
   "source": [
    "df_de = pd.DataFrame()"
   ]
  },
  {
   "cell_type": "code",
   "execution_count": 236,
   "metadata": {
    "collapsed": false
   },
   "outputs": [],
   "source": [
    "start_value = 0\n",
    "\n",
    "for i in range(12):\n",
    "    params = {\n",
    "        'q' : '\"data engineer\"',\n",
    "        'l' : 'Seattle, WA',\n",
    "        'userip' : '10.1.6.148',\n",
    "        'useragent' : 'Mozilla/5.0 (Macintosh; Intel Mac OS X 10_10_1) AppleWebKit/537.36 (KHTML, like Gecko) Chrome/41.0.2227.1 Safari/537.36',\n",
    "        'sort' : 'date',\n",
    "        'limit' : '25',\n",
    "        'start' : start_value\n",
    "        }\n",
    "    search_response = client.search(**params)\n",
    "    df_de = pd.concat([df_de, pd.DataFrame(search_response['results'])])\n",
    "    start_value += 25\n",
    "    time.sleep(1) # sleep for 1 second between requests to slow down the search"
   ]
  },
  {
   "cell_type": "code",
   "execution_count": 237,
   "metadata": {
    "collapsed": false
   },
   "outputs": [
    {
     "data": {
      "text/plain": [
       "(252, 19)"
      ]
     },
     "execution_count": 237,
     "metadata": {},
     "output_type": "execute_result"
    }
   ],
   "source": [
    "df_de.shape"
   ]
  },
  {
   "cell_type": "code",
   "execution_count": 238,
   "metadata": {
    "collapsed": false,
    "scrolled": true
   },
   "outputs": [
    {
     "data": {
      "text/plain": [
       "119"
      ]
     },
     "execution_count": 238,
     "metadata": {},
     "output_type": "execute_result"
    }
   ],
   "source": [
    "len(df_de['jobkey'].unique())"
   ]
  },
  {
   "cell_type": "code",
   "execution_count": 243,
   "metadata": {
    "collapsed": true
   },
   "outputs": [],
   "source": [
    "df_bi = pd.DataFrame()"
   ]
  },
  {
   "cell_type": "code",
   "execution_count": 244,
   "metadata": {
    "collapsed": false
   },
   "outputs": [],
   "source": [
    "start_value = 0\n",
    "\n",
    "for i in range(45):\n",
    "    params = {\n",
    "        'q' : '\"business intelligence\"',\n",
    "        'l' : 'Seattle, WA',\n",
    "        'userip' : '10.1.6.148',\n",
    "        'useragent' : 'Mozilla/5.0 (Macintosh; Intel Mac OS X 10_10_1) AppleWebKit/537.36 (KHTML, like Gecko) Chrome/41.0.2227.1 Safari/537.36',\n",
    "        'sort' : 'date',\n",
    "        'limit' : '25',\n",
    "        'start' : start_value\n",
    "        }\n",
    "    search_response = client.search(**params)\n",
    "    df_bi = pd.concat([df_bi, pd.DataFrame(search_response['results'])])\n",
    "    start_value += 25\n",
    "    time.sleep(1) # sleep for 1 second between requests to slow down the search"
   ]
  },
  {
   "cell_type": "code",
   "execution_count": 245,
   "metadata": {
    "collapsed": false
   },
   "outputs": [
    {
     "data": {
      "text/plain": [
       "(1099, 19)"
      ]
     },
     "execution_count": 245,
     "metadata": {},
     "output_type": "execute_result"
    }
   ],
   "source": [
    "df_bi.shape"
   ]
  },
  {
   "cell_type": "code",
   "execution_count": 246,
   "metadata": {
    "collapsed": false,
    "scrolled": true
   },
   "outputs": [
    {
     "data": {
      "text/plain": [
       "823"
      ]
     },
     "execution_count": 246,
     "metadata": {},
     "output_type": "execute_result"
    }
   ],
   "source": [
    "len(df_bi['jobkey'].unique())"
   ]
  },
  {
   "cell_type": "code",
   "execution_count": 263,
   "metadata": {
    "collapsed": true
   },
   "outputs": [],
   "source": [
    "df_ml = pd.DataFrame()"
   ]
  },
  {
   "cell_type": "code",
   "execution_count": 264,
   "metadata": {
    "collapsed": false
   },
   "outputs": [],
   "source": [
    "start_value = 0\n",
    "\n",
    "for i in range(45):\n",
    "    params = {\n",
    "        'q' : '\"machine learning\"',\n",
    "        'l' : 'Seattle, WA',\n",
    "        'userip' : '10.1.6.148',\n",
    "        'useragent' : 'Mozilla/5.0 (Macintosh; Intel Mac OS X 10_10_1) AppleWebKit/537.36 (KHTML, like Gecko) Chrome/41.0.2227.1 Safari/537.36',\n",
    "        'sort' : 'date',\n",
    "        'limit' : '25',\n",
    "        'start' : start_value\n",
    "        }\n",
    "    search_response = client.search(**params)\n",
    "    df_ml = pd.concat([df_ml, pd.DataFrame(search_response['results'])])\n",
    "    start_value += 25\n",
    "    time.sleep(1) # sleep for 1 second between requests to slow down the search"
   ]
  },
  {
   "cell_type": "code",
   "execution_count": 265,
   "metadata": {
    "collapsed": false
   },
   "outputs": [
    {
     "data": {
      "text/plain": [
       "(1125, 19)"
      ]
     },
     "execution_count": 265,
     "metadata": {},
     "output_type": "execute_result"
    }
   ],
   "source": [
    "df_ml.shape"
   ]
  },
  {
   "cell_type": "code",
   "execution_count": 266,
   "metadata": {
    "collapsed": false,
    "scrolled": true
   },
   "outputs": [
    {
     "data": {
      "text/plain": [
       "1025"
      ]
     },
     "execution_count": 266,
     "metadata": {},
     "output_type": "execute_result"
    }
   ],
   "source": [
    "len(df_ml['jobkey'].unique())"
   ]
  },
  {
   "cell_type": "code",
   "execution_count": 247,
   "metadata": {
    "collapsed": true
   },
   "outputs": [],
   "source": [
    "# Adding a column to each data frame that records which search term was used to retrieve which job listings.\n",
    "df_ds['search_term'] = 'data science'\n",
    "df_da['search_term'] = 'data analyst'\n",
    "df_de['search_term'] = 'data engineer'\n",
    "df_bi['search_term'] = 'business intelligence'\n",
    "df_ml['search_term'] = 'machine learning'"
   ]
  },
  {
   "cell_type": "code",
   "execution_count": 249,
   "metadata": {
    "collapsed": false
   },
   "outputs": [
    {
     "data": {
      "text/plain": [
       "(167, 20)"
      ]
     },
     "execution_count": 249,
     "metadata": {},
     "output_type": "execute_result"
    }
   ],
   "source": [
    "# Removing duplicate rows and checking the number of rows against the lengths of unique values calculated above.\n",
    "df_ds = df_ds.drop_duplicates(['jobkey'], keep='first')\n",
    "\n",
    "df_ds.shape"
   ]
  },
  {
   "cell_type": "code",
   "execution_count": 250,
   "metadata": {
    "collapsed": false
   },
   "outputs": [
    {
     "data": {
      "text/plain": [
       "(139, 20)"
      ]
     },
     "execution_count": 250,
     "metadata": {},
     "output_type": "execute_result"
    }
   ],
   "source": [
    "df_da = df_da.drop_duplicates(['jobkey'], keep='first')\n",
    "df_da.shape"
   ]
  },
  {
   "cell_type": "code",
   "execution_count": 251,
   "metadata": {
    "collapsed": false
   },
   "outputs": [
    {
     "data": {
      "text/plain": [
       "(119, 20)"
      ]
     },
     "execution_count": 251,
     "metadata": {},
     "output_type": "execute_result"
    }
   ],
   "source": [
    "df_de = df_de.drop_duplicates(['jobkey'], keep='first')\n",
    "df_de.shape"
   ]
  },
  {
   "cell_type": "code",
   "execution_count": 252,
   "metadata": {
    "collapsed": false
   },
   "outputs": [
    {
     "data": {
      "text/plain": [
       "(823, 20)"
      ]
     },
     "execution_count": 252,
     "metadata": {},
     "output_type": "execute_result"
    }
   ],
   "source": [
    "df_bi = df_bi.drop_duplicates(['jobkey'], keep='first')\n",
    "df_bi.shape"
   ]
  },
  {
   "cell_type": "code",
   "execution_count": 268,
   "metadata": {
    "collapsed": false
   },
   "outputs": [
    {
     "data": {
      "text/plain": [
       "(1025, 20)"
      ]
     },
     "execution_count": 268,
     "metadata": {},
     "output_type": "execute_result"
    }
   ],
   "source": [
    "df_ml = df_ml.drop_duplicates(['jobkey'], keep='first')\n",
    "df_ml.shape"
   ]
  },
  {
   "cell_type": "code",
   "execution_count": 437,
   "metadata": {
    "collapsed": false
   },
   "outputs": [
    {
     "data": {
      "text/plain": [
       "(2273, 20)"
      ]
     },
     "execution_count": 437,
     "metadata": {},
     "output_type": "execute_result"
    }
   ],
   "source": [
    "# Combining the job listings into a single DataFrame\n",
    "jobs = pd.concat([df_ds, df_da, df_de, df_bi, df_ml])\n",
    "\n",
    "jobs.shape"
   ]
  },
  {
   "cell_type": "code",
   "execution_count": 438,
   "metadata": {
    "collapsed": false
   },
   "outputs": [
    {
     "data": {
      "text/plain": [
       "1960"
      ]
     },
     "execution_count": 438,
     "metadata": {},
     "output_type": "execute_result"
    }
   ],
   "source": [
    "len(jobs['jobkey'].unique())"
   ]
  },
  {
   "cell_type": "code",
   "execution_count": 439,
   "metadata": {
    "collapsed": false
   },
   "outputs": [
    {
     "data": {
      "text/plain": [
       "(1960, 20)"
      ]
     },
     "execution_count": 439,
     "metadata": {},
     "output_type": "execute_result"
    }
   ],
   "source": [
    "jobs = jobs.drop_duplicates(['jobkey'], keep='first')\n",
    "\n",
    "jobs.shape"
   ]
  },
  {
   "cell_type": "code",
   "execution_count": 440,
   "metadata": {
    "collapsed": false,
    "scrolled": true
   },
   "outputs": [
    {
     "data": {
      "text/html": [
       "<div>\n",
       "<table border=\"1\" class=\"dataframe\">\n",
       "  <thead>\n",
       "    <tr style=\"text-align: right;\">\n",
       "      <th></th>\n",
       "      <th>city</th>\n",
       "      <th>company</th>\n",
       "      <th>country</th>\n",
       "      <th>date</th>\n",
       "      <th>expired</th>\n",
       "      <th>formattedLocation</th>\n",
       "      <th>formattedLocationFull</th>\n",
       "      <th>formattedRelativeTime</th>\n",
       "      <th>indeedApply</th>\n",
       "      <th>jobkey</th>\n",
       "      <th>jobtitle</th>\n",
       "      <th>language</th>\n",
       "      <th>onmousedown</th>\n",
       "      <th>snippet</th>\n",
       "      <th>source</th>\n",
       "      <th>sponsored</th>\n",
       "      <th>state</th>\n",
       "      <th>stations</th>\n",
       "      <th>url</th>\n",
       "      <th>search_term</th>\n",
       "    </tr>\n",
       "  </thead>\n",
       "  <tbody>\n",
       "    <tr>\n",
       "      <th>count</th>\n",
       "      <td>1960</td>\n",
       "      <td>1960</td>\n",
       "      <td>1960</td>\n",
       "      <td>1960</td>\n",
       "      <td>1960</td>\n",
       "      <td>1960</td>\n",
       "      <td>1960</td>\n",
       "      <td>1960</td>\n",
       "      <td>1960</td>\n",
       "      <td>1960</td>\n",
       "      <td>1960</td>\n",
       "      <td>1960</td>\n",
       "      <td>1960</td>\n",
       "      <td>1960</td>\n",
       "      <td>1960</td>\n",
       "      <td>1960</td>\n",
       "      <td>1960</td>\n",
       "      <td>1960</td>\n",
       "      <td>1960</td>\n",
       "      <td>1960</td>\n",
       "    </tr>\n",
       "    <tr>\n",
       "      <th>unique</th>\n",
       "      <td>16</td>\n",
       "      <td>439</td>\n",
       "      <td>1</td>\n",
       "      <td>1805</td>\n",
       "      <td>1</td>\n",
       "      <td>16</td>\n",
       "      <td>51</td>\n",
       "      <td>49</td>\n",
       "      <td>2</td>\n",
       "      <td>1960</td>\n",
       "      <td>1681</td>\n",
       "      <td>1</td>\n",
       "      <td>92</td>\n",
       "      <td>1618</td>\n",
       "      <td>331</td>\n",
       "      <td>1</td>\n",
       "      <td>1</td>\n",
       "      <td>1</td>\n",
       "      <td>1960</td>\n",
       "      <td>5</td>\n",
       "    </tr>\n",
       "    <tr>\n",
       "      <th>top</th>\n",
       "      <td>Seattle</td>\n",
       "      <td>Amazon Corporate LLC</td>\n",
       "      <td>US</td>\n",
       "      <td>Fri, 19 May 2017 22:37:30 GMT</td>\n",
       "      <td>False</td>\n",
       "      <td>Seattle, WA</td>\n",
       "      <td>Seattle, WA</td>\n",
       "      <td>30+ days ago</td>\n",
       "      <td>False</td>\n",
       "      <td>1472af44cec343dc</td>\n",
       "      <td>Data Scientist</td>\n",
       "      <td>en</td>\n",
       "      <td>indeed_clk(this,'4341');</td>\n",
       "      <td>After a highly successful IPO in 2013, Tableau...</td>\n",
       "      <td>Amazon.com</td>\n",
       "      <td>False</td>\n",
       "      <td>WA</td>\n",
       "      <td></td>\n",
       "      <td>http://www.indeed.com/viewjob?jk=28bb98f9d7dea...</td>\n",
       "      <td>machine learning</td>\n",
       "    </tr>\n",
       "    <tr>\n",
       "      <th>freq</th>\n",
       "      <td>1422</td>\n",
       "      <td>658</td>\n",
       "      <td>1960</td>\n",
       "      <td>5</td>\n",
       "      <td>1960</td>\n",
       "      <td>1422</td>\n",
       "      <td>1241</td>\n",
       "      <td>991</td>\n",
       "      <td>1699</td>\n",
       "      <td>1</td>\n",
       "      <td>26</td>\n",
       "      <td>1960</td>\n",
       "      <td>25</td>\n",
       "      <td>60</td>\n",
       "      <td>758</td>\n",
       "      <td>1960</td>\n",
       "      <td>1960</td>\n",
       "      <td>1960</td>\n",
       "      <td>1</td>\n",
       "      <td>830</td>\n",
       "    </tr>\n",
       "  </tbody>\n",
       "</table>\n",
       "</div>"
      ],
      "text/plain": [
       "           city               company country                           date  \\\n",
       "count      1960                  1960    1960                           1960   \n",
       "unique       16                   439       1                           1805   \n",
       "top     Seattle  Amazon Corporate LLC      US  Fri, 19 May 2017 22:37:30 GMT   \n",
       "freq       1422                   658    1960                              5   \n",
       "\n",
       "       expired formattedLocation formattedLocationFull formattedRelativeTime  \\\n",
       "count     1960              1960                  1960                  1960   \n",
       "unique       1                16                    51                    49   \n",
       "top      False       Seattle, WA           Seattle, WA          30+ days ago   \n",
       "freq      1960              1422                  1241                   991   \n",
       "\n",
       "       indeedApply            jobkey        jobtitle language  \\\n",
       "count         1960              1960            1960     1960   \n",
       "unique           2              1960            1681        1   \n",
       "top          False  1472af44cec343dc  Data Scientist       en   \n",
       "freq          1699                 1              26     1960   \n",
       "\n",
       "                     onmousedown  \\\n",
       "count                       1960   \n",
       "unique                        92   \n",
       "top     indeed_clk(this,'4341');   \n",
       "freq                          25   \n",
       "\n",
       "                                                  snippet      source  \\\n",
       "count                                                1960        1960   \n",
       "unique                                               1618         331   \n",
       "top     After a highly successful IPO in 2013, Tableau...  Amazon.com   \n",
       "freq                                                   60         758   \n",
       "\n",
       "       sponsored state stations  \\\n",
       "count       1960  1960     1960   \n",
       "unique         1     1        1   \n",
       "top        False    WA            \n",
       "freq        1960  1960     1960   \n",
       "\n",
       "                                                      url       search_term  \n",
       "count                                                1960              1960  \n",
       "unique                                               1960                 5  \n",
       "top     http://www.indeed.com/viewjob?jk=28bb98f9d7dea...  machine learning  \n",
       "freq                                                    1               830  "
      ]
     },
     "execution_count": 440,
     "metadata": {},
     "output_type": "execute_result"
    }
   ],
   "source": [
    "jobs.describe()"
   ]
  },
  {
   "cell_type": "code",
   "execution_count": 441,
   "metadata": {
    "collapsed": false
   },
   "outputs": [
    {
     "data": {
      "text/plain": [
       "machine learning         830\n",
       "business intelligence    725\n",
       "data science             167\n",
       "data analyst             137\n",
       "data engineer            101\n",
       "Name: search_term, dtype: int64"
      ]
     },
     "execution_count": 441,
     "metadata": {},
     "output_type": "execute_result"
    }
   ],
   "source": [
    "jobs['search_term'].value_counts()"
   ]
  },
  {
   "cell_type": "code",
   "execution_count": 442,
   "metadata": {
    "collapsed": false
   },
   "outputs": [
    {
     "data": {
      "text/plain": [
       "0"
      ]
     },
     "execution_count": 442,
     "metadata": {},
     "output_type": "execute_result"
    }
   ],
   "source": [
    "jobs['search_term'].isnull().sum()"
   ]
  },
  {
   "cell_type": "code",
   "execution_count": 443,
   "metadata": {
    "collapsed": true
   },
   "outputs": [],
   "source": [
    "# saving the data set to csv file\n",
    "\n",
    "jobs.to_csv('indeed_job_listings.csv', sep=',', encoding='utf-8', index=False)"
   ]
  },
  {
   "cell_type": "code",
   "execution_count": null,
   "metadata": {
    "collapsed": true
   },
   "outputs": [],
   "source": []
  }
 ],
 "metadata": {
  "kernelspec": {
   "display_name": "Python 2",
   "language": "python",
   "name": "python2"
  },
  "language_info": {
   "codemirror_mode": {
    "name": "ipython",
    "version": 2
   },
   "file_extension": ".py",
   "mimetype": "text/x-python",
   "name": "python",
   "nbconvert_exporter": "python",
   "pygments_lexer": "ipython2",
   "version": "2.7.13"
  }
 },
 "nbformat": 4,
 "nbformat_minor": 2
}
