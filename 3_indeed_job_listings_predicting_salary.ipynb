{
 "cells": [
  {
   "cell_type": "markdown",
   "metadata": {},
   "source": [
    "# Project:\n",
    "# Web Scraping Job Postings and Predicting Salary and Job Categories\n",
    "\n"
   ]
  },
  {
   "cell_type": "code",
   "execution_count": null,
   "metadata": {
    "collapsed": true
   },
   "outputs": [],
   "source": [
    "### The outputs make this notebook too large to upload to github, so the version here does not contain the outputs."
   ]
  },
  {
   "cell_type": "code",
   "execution_count": null,
   "metadata": {
    "collapsed": true
   },
   "outputs": [],
   "source": [
    "import pandas as pd\n",
    "import numpy as np\n",
    "from sklearn.preprocessing import LabelEncoder\n",
    "#from HTMLParser import HTMLParser\n",
    "from sklearn.feature_extraction.text import CountVectorizer\n",
    "from nltk.stem.snowball import SnowballStemmer\n",
    "#from nltk.corpus import stopwords\n",
    "#from nltk.tag import pos_tag\n",
    "#from nltk.tokenize import WordPunctTokenizer\n",
    "from textblob import TextBlob\n",
    "from textacy.preprocess import preprocess_text\n",
    "from sklearn.feature_extraction.text import TfidfVectorizer\n",
    "\n",
    "import seaborn as sns\n",
    "import matplotlib.pyplot as plt\n",
    "\n",
    "sns.set_style('whitegrid')\n",
    "\n",
    "%config InlineBackend.figure_format = 'retina'\n",
    "%matplotlib inline\n",
    "\n",
    "pd.options.display.max_rows = 999\n",
    "pd.options.display.max_columns = 999\n",
    "\n",
    "from sklearn.tree import DecisionTreeClassifier, DecisionTreeRegressor\n",
    "from sklearn.model_selection import GridSearchCV\n",
    "from sklearn.model_selection import train_test_split\n",
    "from sklearn.model_selection import cross_val_score\n",
    "import patsy\n",
    "from sklearn.externals.six import StringIO  \n",
    "from IPython.display import Image  \n",
    "from sklearn.tree import export_graphviz\n",
    "import pydotplus\n",
    "from sklearn.cluster import DBSCAN\n",
    "from sklearn import metrics\n",
    "from sklearn.naive_bayes import MultinomialNB, BernoulliNB\n",
    "from sklearn.ensemble import RandomForestClassifier\n",
    "from sklearn.ensemble import BaggingClassifier\n",
    "from scipy.cluster.hierarchy import dendrogram, linkage, cophenet, fcluster\n",
    "from scipy.spatial.distance import pdist\n",
    "import os\n",
    "from gensim import corpora, models, matutils\n",
    "from collections import defaultdict"
   ]
  },
  {
   "cell_type": "code",
   "execution_count": null,
   "metadata": {
    "collapsed": false
   },
   "outputs": [],
   "source": [
    "df = pd.read_csv('./formatted_job_listings.csv', sep=',', encoding='utf-8', index_col=None)\n",
    "\n",
    "df.shape"
   ]
  },
  {
   "cell_type": "code",
   "execution_count": null,
   "metadata": {
    "collapsed": false
   },
   "outputs": [],
   "source": [
    "df.head()"
   ]
  },
  {
   "cell_type": "markdown",
   "metadata": {},
   "source": [
    "# Modeling\n",
    "\n",
    "## Salary Prediction: Which factors predict salary estimate classes?"
   ]
  },
  {
   "cell_type": "markdown",
   "metadata": {},
   "source": [
    "#### Since I'm looking for feature importances, I'll try a DecisionTreeClassifier first."
   ]
  },
  {
   "cell_type": "code",
   "execution_count": null,
   "metadata": {
    "collapsed": true
   },
   "outputs": [],
   "source": [
    "# Using patsy, I created a matrix of predictors based on the categorical columns city and company_abbrev and the \n",
    "# binary columns from the vector counts on the snippets and the job titles.\n",
    "\n",
    "y, X = patsy.dmatrices('salary_categories ~ C(city) + C(company_abbrev) + jobtitle_length + data + experienc + statist + maintain + scienc + princip + scientist + look + level + play + team + lead + develop + advanc + role + JT_princip + JT_data + JT_scientist', \n",
    "                       data=df, return_type='dataframe')"
   ]
  },
  {
   "cell_type": "code",
   "execution_count": null,
   "metadata": {
    "collapsed": false
   },
   "outputs": [],
   "source": [
    "X"
   ]
  },
  {
   "cell_type": "code",
   "execution_count": null,
   "metadata": {
    "collapsed": true
   },
   "outputs": [],
   "source": [
    "# Getting the target values into array format\n",
    "\n",
    "y = y.values.ravel()"
   ]
  },
  {
   "cell_type": "code",
   "execution_count": null,
   "metadata": {
    "collapsed": true
   },
   "outputs": [],
   "source": [
    "# Trying out some parameters for the DecisionTreeClassifier to inform my selection of parameters for a GridSearch\n",
    "tree_cl1 = DecisionTreeClassifier(max_depth=1, random_state=1)\n",
    "tree_cl2 = DecisionTreeClassifier(max_depth=2, random_state=1)\n",
    "tree_cl3 = DecisionTreeClassifier(max_depth=3, random_state=1)\n",
    "tree_clN = DecisionTreeClassifier(max_depth=None, random_state=1)"
   ]
  },
  {
   "cell_type": "code",
   "execution_count": null,
   "metadata": {
    "collapsed": false
   },
   "outputs": [],
   "source": [
    "tree_cl1.fit(X, y)\n",
    "tree_cl2.fit(X, y)\n",
    "tree_cl3.fit(X, y)\n",
    "tree_clN.fit(X, y)"
   ]
  },
  {
   "cell_type": "code",
   "execution_count": null,
   "metadata": {
    "collapsed": false
   },
   "outputs": [],
   "source": [
    "tree_cl1_scores = cross_val_score(tree_cl1, X, y, cv=4)\n",
    "tree_cl2_scores = cross_val_score(tree_cl2, X, y, cv=4)\n",
    "tree_cl3_scores = cross_val_score(tree_cl3, X, y, cv=4)\n",
    "tree_clN_scores = cross_val_score(tree_clN, X, y, cv=4)\n",
    "\n",
    "print tree_cl1_scores, np.mean(tree_cl1_scores)\n",
    "print tree_cl2_scores, np.mean(tree_cl2_scores)\n",
    "print tree_cl3_scores, np.mean(tree_cl3_scores)\n",
    "print tree_clN_scores, np.mean(tree_clN_scores)"
   ]
  },
  {
   "cell_type": "code",
   "execution_count": null,
   "metadata": {
    "collapsed": true
   },
   "outputs": [],
   "source": [
    "dtc_params = {\n",
    "    'max_depth':[None,1,2,3,4],\n",
    "    'max_features':[None,'log2','sqrt',2,3,4,5],\n",
    "    'min_samples_split':[2,3,4,5,10,15,20,25,30,40,50]\n",
    "}\n",
    "\n",
    "dtc_gs = GridSearchCV(DecisionTreeClassifier(), dtc_params, cv=5, verbose=1)"
   ]
  },
  {
   "cell_type": "code",
   "execution_count": null,
   "metadata": {
    "collapsed": false
   },
   "outputs": [],
   "source": [
    "dtc_gs.fit(X, y)"
   ]
  },
  {
   "cell_type": "code",
   "execution_count": null,
   "metadata": {
    "collapsed": false
   },
   "outputs": [],
   "source": [
    "# Extracting the parameters and score for the best DecisionTreeClassifier identified by GridSearch\n",
    "\n",
    "dtc_best = dtc_gs.best_estimator_\n",
    "print dtc_gs.best_params_\n",
    "print dtc_gs.best_score_"
   ]
  },
  {
   "cell_type": "code",
   "execution_count": null,
   "metadata": {
    "collapsed": false
   },
   "outputs": [],
   "source": [
    "# Visualizing the decision tree\n",
    "\n",
    "dot_data = StringIO() \n",
    "\n",
    "export_graphviz(dtc_best, out_file=dot_data,  \n",
    "                filled=True, rounded=True,\n",
    "                special_characters=True,\n",
    "                feature_names=X.columns)  \n",
    "\n",
    "graph = pydotplus.graph_from_dot_data(dot_data.getvalue())  \n",
    "Image(graph.create_png())"
   ]
  },
  {
   "cell_type": "code",
   "execution_count": null,
   "metadata": {
    "collapsed": false,
    "scrolled": true
   },
   "outputs": [],
   "source": [
    "# Displaying the feature importances for the decision tree\n",
    "\n",
    "fi = pd.DataFrame({\n",
    "        'feature':X.columns,\n",
    "        'importance':dtc_best.feature_importances_\n",
    "    })\n",
    "\n",
    "fi.sort_values('importance', ascending=False, inplace=True)\n",
    "fi"
   ]
  },
  {
   "cell_type": "code",
   "execution_count": null,
   "metadata": {
    "collapsed": true
   },
   "outputs": [],
   "source": [
    "# The number of times that the word 'data' appears in the job snippet is the most important feature in predicting\n",
    "# salary. If 'data' appears 0-1 times, then the salary is most likely in one of the highest two categories. In this\n",
    "# case, if the hiring company is Tableau, the salary is likely to be in the second highest rather than the highest\n",
    "# category.\n",
    "\n",
    "# If the word 'data' appears two or more times in the snippet, then the next most important feature is whether\n",
    "# the word 'scientist' appears in the job title. If it does, and the hiring organization is the University of\n",
    "# Washington, then the salary is likely in the lowest category. If 'scientist' is not in the job title but\n",
    "# the employer is not UW, then the salary is likely in the middle category if the job title has eight words or fewer\n",
    "# or the highest category if the title has more than eight words. And so on.\n",
    "\n",
    "# If 'data' appears in the listing at least twice but 'scientist' is not in the title, then having a job title\n",
    "# containing 'data' suggests a higher salary, in the second lowest category if the job is at Amazon and potentially\n",
    "# higher if it is not. If 'data' does not appear in the job title, then the salary is likely in the lowest category."
   ]
  },
  {
   "cell_type": "markdown",
   "metadata": {},
   "source": [
    "#### Next let's try a Naive Bayes with MultinomialNB since since we're classifying with discrete categories."
   ]
  },
  {
   "cell_type": "code",
   "execution_count": null,
   "metadata": {
    "collapsed": false
   },
   "outputs": [],
   "source": [
    "mnb = MultinomialNB().fit(X, y)"
   ]
  },
  {
   "cell_type": "code",
   "execution_count": null,
   "metadata": {
    "collapsed": false
   },
   "outputs": [],
   "source": [
    "mnb_scores = cross_val_score(mnb, X, y, cv=4)\n",
    "\n",
    "print mnb_scores, np.mean(mnb_scores)\n"
   ]
  },
  {
   "cell_type": "code",
   "execution_count": null,
   "metadata": {
    "collapsed": true
   },
   "outputs": [],
   "source": [
    "# The MultinomialNB did not score quite as well as the optimal decision tree."
   ]
  },
  {
   "cell_type": "code",
   "execution_count": null,
   "metadata": {
    "collapsed": true
   },
   "outputs": [],
   "source": []
  }
 ],
 "metadata": {
  "kernelspec": {
   "display_name": "Python 2",
   "language": "python",
   "name": "python2"
  },
  "language_info": {
   "codemirror_mode": {
    "name": "ipython",
    "version": 2
   },
   "file_extension": ".py",
   "mimetype": "text/x-python",
   "name": "python",
   "nbconvert_exporter": "python",
   "pygments_lexer": "ipython2",
   "version": "2.7.13"
  }
 },
 "nbformat": 4,
 "nbformat_minor": 2
}
